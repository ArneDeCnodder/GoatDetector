{
  "nbformat": 4,
  "nbformat_minor": 0,
  "metadata": {
    "accelerator": "GPU",
    "colab": {
      "name": "YOLO AI",
      "private_outputs": true,
      "provenance": [],
      "collapsed_sections": [],
      "mount_file_id": "17yLXsDKcAuGWWUw7L0XBzjf2ZVKHb2qy",
      "authorship_tag": "ABX9TyN7A2gktjPC3j9oV1OZhrAD",
      "include_colab_link": true
    },
    "kernelspec": {
      "display_name": "Python 3",
      "name": "python3"
    },
    "language_info": {
      "name": "python"
    }
  },
  "cells": [
    {
      "cell_type": "markdown",
      "metadata": {
        "id": "view-in-github",
        "colab_type": "text"
      },
      "source": [
        "<a href=\"https://colab.research.google.com/github/ArneDeCnodder/GoatDetector/blob/main/YOLO_AI.ipynb\" target=\"_parent\"><img src=\"https://colab.research.google.com/assets/colab-badge.svg\" alt=\"Open In Colab\"/></a>"
      ]
    },
    {
      "cell_type": "code",
      "source": [
        "!pip install -Uqq fastbook\n",
        "import fastbook\n",
        "fastbook.setup_book()"
      ],
      "metadata": {
        "id": "cZMbvKtwxzN5"
      },
      "execution_count": null,
      "outputs": []
    },
    {
      "cell_type": "code",
      "metadata": {
        "id": "-PqMJ2KVVELZ"
      },
      "source": [
        "cd drive/MyDrive/main_folder/YoloV3-Custom-Object-Detection/"
      ],
      "execution_count": null,
      "outputs": []
    },
    {
      "cell_type": "code",
      "metadata": {
        "id": "kEpL5tDM0NFr"
      },
      "source": [
        "cd MyDrive"
      ],
      "execution_count": null,
      "outputs": []
    },
    {
      "cell_type": "code",
      "metadata": {
        "id": "2PS8N6fxIMgz"
      },
      "source": [
        "mkdir main_folder"
      ],
      "execution_count": null,
      "outputs": []
    },
    {
      "cell_type": "code",
      "metadata": {
        "id": "18ibxi7oIo1i"
      },
      "source": [
        "cd main_folder"
      ],
      "execution_count": null,
      "outputs": []
    },
    {
      "cell_type": "code",
      "metadata": {
        "id": "zA9-YlOOIsu1"
      },
      "source": [
        "!git clone https://github.com/pythonlessons/OIDv4_ToolKit.git"
      ],
      "execution_count": null,
      "outputs": []
    },
    {
      "cell_type": "code",
      "metadata": {
        "id": "6rjhd_1fIs5z"
      },
      "source": [
        "cd OIDv4_ToolKit"
      ],
      "execution_count": null,
      "outputs": []
    },
    {
      "cell_type": "code",
      "metadata": {
        "id": "rAFTD3_WIs9X"
      },
      "source": [
        "!pip3 install -r requirements.txt"
      ],
      "execution_count": null,
      "outputs": []
    },
    {
      "cell_type": "code",
      "metadata": {
        "id": "5BuVCNXmItAj"
      },
      "source": [
        "!python3 main.py downloader --classes Goat --type_csv train --limit 1100"
      ],
      "execution_count": null,
      "outputs": []
    },
    {
      "cell_type": "code",
      "metadata": {
        "id": "WIAt1hnqLsIE"
      },
      "source": [
        "!python3 oid_to_pascal_voc_xml.py"
      ],
      "execution_count": null,
      "outputs": []
    },
    {
      "cell_type": "code",
      "metadata": {
        "id": "ds-d0OPNLsNE"
      },
      "source": [
        "cd OID/Dataset/train/Goat"
      ],
      "execution_count": null,
      "outputs": []
    },
    {
      "cell_type": "code",
      "metadata": {
        "id": "1hZOuF9MLsSE"
      },
      "source": [
        "mv *.xml TO_PASCAL_XML"
      ],
      "execution_count": null,
      "outputs": []
    },
    {
      "cell_type": "code",
      "metadata": {
        "id": "3rdiph88LsUx"
      },
      "source": [
        "cd ../../../.."
      ],
      "execution_count": null,
      "outputs": []
    },
    {
      "cell_type": "code",
      "metadata": {
        "id": "-_jNvUO4LsXO"
      },
      "source": [
        "cd ../"
      ],
      "execution_count": null,
      "outputs": []
    },
    {
      "cell_type": "code",
      "metadata": {
        "id": "R8-CB2nQQTsN"
      },
      "source": [
        "!git clone https://github.com/TheCaffeineDev/YoloV3-Custom-Object-Detection.git"
      ],
      "execution_count": null,
      "outputs": []
    },
    {
      "cell_type": "code",
      "metadata": {
        "id": "JMadCig3QTvB"
      },
      "source": [
        "cd YoloV3-Custom-Object-Detection/"
      ],
      "execution_count": null,
      "outputs": []
    },
    {
      "cell_type": "code",
      "metadata": {
        "id": "Apmy5TUOQTxz"
      },
      "source": [
        "!pip3 install -r requirements.txt"
      ],
      "execution_count": null,
      "outputs": []
    },
    {
      "cell_type": "code",
      "metadata": {
        "id": "tGelbfI1QT0g"
      },
      "source": [
        "!cp -a ../OIDv4_ToolKit/OID/Dataset/train/Goat/*.jpg training/images"
      ],
      "execution_count": null,
      "outputs": []
    },
    {
      "cell_type": "code",
      "metadata": {
        "id": "oLTFQBfqS-wC"
      },
      "source": [
        "!cp -a ../OIDv4_ToolKit/OID/Dataset/train/Goat/TO_PASCAL_XML/*.xml conversion/xmls"
      ],
      "execution_count": null,
      "outputs": []
    },
    {
      "cell_type": "code",
      "metadata": {
        "id": "YLMqYqOUKAfD"
      },
      "source": [
        "cd conversion/"
      ],
      "execution_count": null,
      "outputs": []
    },
    {
      "cell_type": "code",
      "metadata": {
        "id": "4jZqnI5fKAcn"
      },
      "source": [
        "!python3 xmltotxt.py -xml xmls -out output"
      ],
      "execution_count": null,
      "outputs": []
    },
    {
      "cell_type": "code",
      "metadata": {
        "id": "z2oSrVAlKAaD"
      },
      "source": [
        "!cp -a output/*.txt ../training/labels"
      ],
      "execution_count": null,
      "outputs": []
    },
    {
      "cell_type": "code",
      "metadata": {
        "id": "UWQzSCDTKAUM"
      },
      "source": [
        "cd ../training"
      ],
      "execution_count": null,
      "outputs": []
    },
    {
      "cell_type": "code",
      "metadata": {
        "id": "FKIJnQD-KGJg"
      },
      "source": [
        "!python3 train_test.py"
      ],
      "execution_count": null,
      "outputs": []
    },
    {
      "cell_type": "code",
      "metadata": {
        "id": "fXeXCIFIKGDa"
      },
      "source": [
        "cd ../"
      ],
      "execution_count": null,
      "outputs": []
    },
    {
      "cell_type": "code",
      "metadata": {
        "id": "4akrjsq-KF--"
      },
      "source": [
        "!python3 train.py --epochs 150 --data training/trainer.data --cfg training/yolov3.cfg --batch 16 --accum 1"
      ],
      "execution_count": null,
      "outputs": []
    },
    {
      "cell_type": "code",
      "metadata": {
        "id": "xGQlhzCvwZPK"
      },
      "source": [
        "!python3  -c \"from models import *; convert('training/yolov3.cfg', 'weights/best.pt')\""
      ],
      "execution_count": null,
      "outputs": []
    },
    {
      "cell_type": "code",
      "metadata": {
        "id": "YNsr1bNMwuOo"
      },
      "source": [
        "!zip -r /content/yolo.zip /content/drive/MyDrive/main_folder/YoloV3-Custom-Object-Detection/"
      ],
      "execution_count": null,
      "outputs": []
    },
    {
      "cell_type": "code",
      "source": [
        "pwd"
      ],
      "metadata": {
        "id": "YqrLaANOeD65"
      },
      "execution_count": null,
      "outputs": []
    },
    {
      "cell_type": "code",
      "metadata": {
        "id": "XI8ttFWb2L8f"
      },
      "source": [
        "cd .."
      ],
      "execution_count": null,
      "outputs": []
    },
    {
      "cell_type": "code",
      "source": [
        "cd YoloV3-Custom-Object-Detection/"
      ],
      "metadata": {
        "id": "k_HyPA0IEHPg"
      },
      "execution_count": null,
      "outputs": []
    },
    {
      "cell_type": "code",
      "metadata": {
        "id": "6u30IkBc2S8d"
      },
      "source": [
        "!cp yolo.zip drive/MyDrive"
      ],
      "execution_count": null,
      "outputs": []
    },
    {
      "cell_type": "code",
      "source": [
        "pwd"
      ],
      "metadata": {
        "id": "2oU9JZvqEwpX"
      },
      "execution_count": null,
      "outputs": []
    },
    {
      "cell_type": "code",
      "metadata": {
        "id": "XUZyObI3w0F2"
      },
      "source": [
        "!python3 detect.py --source bbcgoat.mp4 --weights converted.weights --cfg training/yolov3.cfg --names training/object.names --img-size 416"
      ],
      "execution_count": null,
      "outputs": []
    },
    {
      "cell_type": "code",
      "source": [
        ""
      ],
      "metadata": {
        "id": "D1mPfGJSZdvN"
      },
      "execution_count": null,
      "outputs": []
    },
    {
      "cell_type": "code",
      "source": [
        "/content/gdrive/MyDrive/main_folder/YoloV3-Custom-Object-Detection/goat.mp4"
      ],
      "metadata": {
        "id": "yyYZDMNiEq2Y"
      },
      "execution_count": null,
      "outputs": []
    },
    {
      "cell_type": "markdown",
      "source": [
        "nog altijd mooi aan het werken dat zie ik graag uiteraard jajajajajjajajjajajaaaaaaaaaaaaaaaaaaaaaaaaaaaaaaaaaaaaaaaaaaaaaaaaaaaaaaaaaaaaaaaaaaaaaaaaaaaaaaaaaaaaaaaaaaaaaaaaaaaaaaaaaaaaaaaaaaaaaaaaaaaaaa kom typ hier nog eens wat bi j, waarom typen? ja waarom niet he ik doe dit om te voorkomen dat ik niet goed kan detecten , een detectie van 150 epochs is normaal ik weet niet mss 200 epochs dat dat beter gaat mss mss ook niet he\n"
      ],
      "metadata": {
        "id": "Sny0MxY5VaSw"
      }
    },
    {
      "cell_type": "markdown",
      "source": [
        "nog eens iets extra schrijven je weet maar nooit wat er kan gebeuren als je langer dan 4 uur traint hahaha ja daar staat een theo e knabbelen njam njam njam zeetem , lekkere hapjes ja en nu op uw kussen gaan liggen he theo dat doet ie graag he op een kussen liggen en hij kijt nu rond , hij gaat miepen want iedereen die van hem houdt is weg all changes serverd, no saved i imagine i would say"
      ],
      "metadata": {
        "id": "WVw58oR6c_R9"
      }
    },
    {
      "cell_type": "markdown",
      "source": [
        "we did it boys , we reached 5 training hours lets fokking goooooo"
      ],
      "metadata": {
        "id": "OQZGrAKlrPxQ"
      }
    },
    {
      "cell_type": "markdown",
      "source": [
        "ye i told you long ago , on a road, i got what you're waiting for"
      ],
      "metadata": {
        "id": "S6cptvKoxr2l"
      }
    }
  ]
}